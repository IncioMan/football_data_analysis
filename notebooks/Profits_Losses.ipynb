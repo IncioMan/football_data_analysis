{
 "cells": [
  {
   "cell_type": "code",
   "execution_count": 2,
   "id": "ec70b8b4-b339-455a-bed9-852b4981b637",
   "metadata": {
    "tags": []
   },
   "outputs": [],
   "source": [
    "import pandas as pd\n",
    "import requests\n",
    "import matplotlib.pyplot as plt\n",
    "import requests\n",
    "import os\n",
    "import numpy as np\n",
    "\n",
    "pd.options.mode.chained_assignment = None\n",
    "pd.set_option('display.max_rows', 200)"
   ]
  },
  {
   "cell_type": "markdown",
   "id": "42b4b614-d247-4a62-9ef9-39591bdf6e85",
   "metadata": {
    "tags": []
   },
   "source": [
    "## Load Bets"
   ]
  },
  {
   "cell_type": "code",
   "execution_count": 8,
   "id": "2ee32099-cf4b-4d1f-a0d9-09fb4f6a255d",
   "metadata": {
    "tags": []
   },
   "outputs": [
    {
     "data": {
      "text/html": [
       "<div>\n",
       "<style scoped>\n",
       "    .dataframe tbody tr th:only-of-type {\n",
       "        vertical-align: middle;\n",
       "    }\n",
       "\n",
       "    .dataframe tbody tr th {\n",
       "        vertical-align: top;\n",
       "    }\n",
       "\n",
       "    .dataframe thead th {\n",
       "        text-align: right;\n",
       "    }\n",
       "</style>\n",
       "<table border=\"1\" class=\"dataframe\">\n",
       "  <thead>\n",
       "    <tr style=\"text-align: right;\">\n",
       "      <th></th>\n",
       "      <th>date</th>\n",
       "      <th>bet_type</th>\n",
       "      <th>amount_played</th>\n",
       "      <th>single_system</th>\n",
       "      <th>amount_won</th>\n",
       "    </tr>\n",
       "  </thead>\n",
       "  <tbody>\n",
       "    <tr>\n",
       "      <th>0</th>\n",
       "      <td>2023/02/01</td>\n",
       "      <td>Default</td>\n",
       "      <td>4.0</td>\n",
       "      <td>Multipla</td>\n",
       "      <td>6.14</td>\n",
       "    </tr>\n",
       "    <tr>\n",
       "      <th>1</th>\n",
       "      <td>2023/02/01</td>\n",
       "      <td>Default</td>\n",
       "      <td>3.0</td>\n",
       "      <td>Multipla</td>\n",
       "      <td>0.98</td>\n",
       "    </tr>\n",
       "    <tr>\n",
       "      <th>2</th>\n",
       "      <td>2023/02/01</td>\n",
       "      <td>Default</td>\n",
       "      <td>1.0</td>\n",
       "      <td>Multipla</td>\n",
       "      <td>2.25</td>\n",
       "    </tr>\n",
       "    <tr>\n",
       "      <th>3</th>\n",
       "      <td>2023/02/01</td>\n",
       "      <td>Default</td>\n",
       "      <td>1.0</td>\n",
       "      <td>Multipla</td>\n",
       "      <td>2.45</td>\n",
       "    </tr>\n",
       "    <tr>\n",
       "      <th>4</th>\n",
       "      <td>2023/02/01</td>\n",
       "      <td>Default</td>\n",
       "      <td>2.0</td>\n",
       "      <td>Multipla</td>\n",
       "      <td>20.45</td>\n",
       "    </tr>\n",
       "  </tbody>\n",
       "</table>\n",
       "</div>"
      ],
      "text/plain": [
       "         date bet_type  amount_played single_system  amount_won\n",
       "0  2023/02/01  Default            4.0      Multipla        6.14\n",
       "1  2023/02/01  Default            3.0      Multipla        0.98\n",
       "2  2023/02/01  Default            1.0      Multipla        2.25\n",
       "3  2023/02/01  Default            1.0      Multipla        2.45\n",
       "4  2023/02/01  Default            2.0      Multipla       20.45"
      ]
     },
     "execution_count": 8,
     "metadata": {},
     "output_type": "execute_result"
    }
   ],
   "source": [
    "bets_df = pd.read_csv('../data/bets/his.csv')\n",
    "bets_df.head()"
   ]
  },
  {
   "cell_type": "code",
   "execution_count": 19,
   "id": "ce224069-41bb-4553-98d7-30bddf876978",
   "metadata": {},
   "outputs": [],
   "source": [
    "bets_df.date = pd.to_datetime(bets_df.date)\n",
    "bets_df['week'] = bets_df.date.dt.isocalendar().week"
   ]
  },
  {
   "cell_type": "code",
   "execution_count": 20,
   "id": "a2e0142b-2fdb-4320-a571-7c5a0aed3294",
   "metadata": {
    "tags": []
   },
   "outputs": [],
   "source": [
    "bets_df['profit_loss'] = bets_df.amount_won - bets_df.amount_played"
   ]
  },
  {
   "cell_type": "code",
   "execution_count": 25,
   "id": "0c319cdb-a01f-4ef9-9490-58c963f02c26",
   "metadata": {
    "tags": []
   },
   "outputs": [
    {
     "data": {
      "text/plain": [
       "<Axes: xlabel='week'>"
      ]
     },
     "execution_count": 25,
     "metadata": {},
     "output_type": "execute_result"
    },
    {
     "data": {
      "image/png": "[encoded data removed]",
      "text/plain": [
       "<Figure size 640x480 with 1 Axes>"
      ]
     },
     "metadata": {},
     "output_type": "display_data"
    }
   ],
   "source": [
    "bets_df[['week','profit_loss']].groupby('week').sum().profit_loss.plot(kind='bar')"
   ]
  },
  {
   "cell_type": "code",
   "execution_count": null,
   "id": "ab31fdf5-9139-4df4-b151-f0e62e4c9ee5",
   "metadata": {},
   "outputs": [],
   "source": []
  }
 ],
 "metadata": {
  "kernelspec": {
   "display_name": "Python 3 (ipykernel)",
   "language": "python",
   "name": "python3"
  },
  "language_info": {
   "codemirror_mode": {
    "name": "ipython",
    "version": 3
   },
   "file_extension": ".py",
   "mimetype": "text/x-python",
   "name": "python",
   "nbconvert_exporter": "python",
   "pygments_lexer": "ipython3",
   "version": "3.9.16"
  },
  "toc-autonumbering": false,
  "toc-showcode": false
 },
 "nbformat": 4,
 "nbformat_minor": 5
}
