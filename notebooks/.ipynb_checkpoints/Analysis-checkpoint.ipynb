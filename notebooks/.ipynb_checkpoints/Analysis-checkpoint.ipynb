{
 "cells": [
  {
   "cell_type": "code",
   "execution_count": 710,
   "id": "90fc0e3b-bac0-4ab5-9e27-5cbd1593a599",
   "metadata": {
    "tags": []
   },
   "outputs": [],
   "source": [
    "import pandas as pd\n",
    "import requests\n",
    "import matplotlib.pyplot as plt\n",
    "import requests\n",
    "import os\n",
    "import numpy as np\n",
    "\n",
    "pd.options.mode.chained_assignment = None\n",
    "pd.set_option('display.max_rows', 200)"
   ]
  },
  {
   "cell_type": "markdown",
   "id": "4d1b211e-881c-4682-84c1-292fec705ba1",
   "metadata": {
    "tags": []
   },
   "source": [
    "## Fetch Data"
   ]
  },
  {
   "cell_type": "code",
   "execution_count": 711,
   "id": "b85ffbf4-27f7-4e3f-82f3-c0aad25bc954",
   "metadata": {
    "tags": []
   },
   "outputs": [],
   "source": [
    "standings_ulrs = {\n",
    "    \"Serie A\": \"http://api.football-data.org/v4/competitions/SA/standings\",\n",
    "    \"Bundesliga\": \"http://api.football-data.org/v4/competitions/BL1/standings\",\n",
    "    \"La Liga\": \"http://api.football-data.org/v4/competitions/PD/standings\",\n",
    "    \"Premier League\": \"http://api.football-data.org/v4/competitions/PL/standings\"\n",
    "}\n",
    "headers = {\"X-Auth-Token\": os.getenv('footaball_data_token')}"
   ]
  },
  {
   "cell_type": "markdown",
   "id": "2cb5996c-ee69-4ae7-94fb-f934c9955deb",
   "metadata": {
    "tags": []
   },
   "source": [
    "### Standing"
   ]
  },
  {
   "cell_type": "code",
   "execution_count": 712,
   "id": "af96cb2d-3310-4809-88a9-ba07c24cde36",
   "metadata": {
    "tags": []
   },
   "outputs": [],
   "source": [
    "standings = {}\n",
    "\n",
    "for competition, url in standings_ulrs.items():\n",
    "    response = requests.get(url, headers=headers)\n",
    "\n",
    "    data = response.json()\n",
    "    data = data['standings'][0]['table']\n",
    "    standing = pd.DataFrame(data)\n",
    "\n",
    "    # Extract the 'shortName' value from the 'team' dictionary\n",
    "    standing['team_short_name'] = standing['team'].apply(lambda x: x['shortName'])\n",
    "    # Drop the 'team' column\n",
    "    standing.drop(columns=['team'], inplace=True)\n",
    "    \n",
    "    n_groups = 3\n",
    "    standing['team_group'] = standing.position.apply(lambda x: int(((x-1)/(20/n_groups))))\n",
    "    standing['team_short_name'] = \\\n",
    "                standing['team_short_name']\\\n",
    "                        .replace({\n",
    "                        'Spezia Calcio':'Spezia',\n",
    "                        #\n",
    "                        'Frankfurt':'Ein Frankfurt', \n",
    "                        '1. FC Köln': 'FC Koln',\n",
    "                        'Hertha BSC': 'Hertha', \n",
    "                        'Bremen': 'Werder Bremen', \n",
    "                        'Schalke': 'Schalke 04', \n",
    "                        'Bayern': 'Bayern Munich',\n",
    "                        #\n",
    "                        'Barça':'Barcelona', \n",
    "                        'Cádiz CF': 'Cadiz', \n",
    "                        'Almería': 'Almeria', \n",
    "                        'Athletic':'Ath Bilbao', \n",
    "                        'Real Betis': 'Betis', \n",
    "                        'Espanyol': 'Espanol',\n",
    "                        'Sevilla FC': 'Sevilla',\n",
    "                        'Atleti': 'Ath Madrid', \n",
    "                        'Real Sociedad':'Sociedad', \n",
    "                        'Rayo Vallecano': 'Vallecano',\n",
    "                        #\n",
    "                        'Leeds United':'Leeds', \n",
    "                        'Leicester City':'Leicester', \n",
    "                        'Brighton Hove':'Brighton',\n",
    "                        'Wolverhampton':'Wolves', \n",
    "                        'Nottingham':\"Nott'm Forest\"\n",
    "                        })\n",
    "\n",
    "    standings[competition] = standing"
   ]
  },
  {
   "cell_type": "markdown",
   "id": "ddefad89-2386-4599-8c85-40bfd3a26c66",
   "metadata": {
    "tags": []
   },
   "source": [
    "### Match Days"
   ]
  },
  {
   "cell_type": "code",
   "execution_count": 713,
   "id": "bb07bbb8-b1fd-4ab1-aa17-787f7cf47d96",
   "metadata": {
    "tags": []
   },
   "outputs": [],
   "source": [
    "data_url = {\n",
    "    \"Serie A\": \"https://www.football-data.co.uk/mmz4281/2223/I1.csv\",\n",
    "    \"Bundesliga\": \"https://www.football-data.co.uk/mmz4281/2223/D1.csv\",\n",
    "    \"La Liga\": \"https://www.football-data.co.uk/mmz4281/2223/SP1.csv\",\n",
    "    \"Premier League\": \"https://www.football-data.co.uk/mmz4281/2223/E0.csv\"\n",
    "}\n",
    "\n",
    "data_paths = {\n",
    "}\n",
    "\n",
    "for competition, url in data_url.items():\n",
    "    response = requests.get(url)\n",
    "    filename = competition.replace(' ','_') + \".csv\"\n",
    "    file_dir = f\"../data/raw/{os.getenv('season')}/\"\n",
    "    file_path = f\"{file_dir}{filename}\"\n",
    "\n",
    "    if not os.path.exists(file_dir):\n",
    "        os.makedirs(file_dir)\n",
    "    with open(file_path, \"wb\") as f:\n",
    "        f.write(response.content)\n",
    "        \n",
    "    df = pd.read_csv(file_path)\n",
    "    \n",
    "    ### Fix MatchDays -----------------\n",
    "    df.loc[(df.HomeTeam == 'Empoli') & (df.AwayTeam == 'Cremonese'),'Date'] = '12/11/2022'\n",
    "    #Avoid no breaks\n",
    "    df.loc[(df.HomeTeam == 'Brentford') & (df.AwayTeam == 'Liverpool'),'Date'] = '03/01/2023'\n",
    "    df.loc[(df.HomeTeam == 'Villarreal') & (df.AwayTeam == 'Osasuna'),'Date'] = '16/10/2022'\n",
    "    df.loc[(df.HomeTeam == 'Villarreal') & (df.AwayTeam == 'Vallecano'),'Date'] = '29/01/2023'\n",
    "    df.loc[(df.HomeTeam == 'Vallecano') & (df.AwayTeam == 'Real Madrid'),'Date'] = '06/11/2022'\n",
    "    df.loc[(df.HomeTeam == 'Real Madrid') & (df.AwayTeam == 'Elche'),'Date'] = '13/02/2023'\n",
    "    #Matchday 7\n",
    "    df.loc[(df.HomeTeam == 'Fulham') & (df.AwayTeam == 'Chelsea'),'Date'] = '10/09/2022'\n",
    "    df.loc[(df.HomeTeam == 'Crystal Palace') & (df.AwayTeam == 'Man United'),'Date'] = '10/09/2022'\n",
    "    df.loc[(df.HomeTeam == 'Man City') & (df.AwayTeam == 'Tottenham'),'Date'] = '10/09/2022'\n",
    "    df.loc[(df.HomeTeam == 'Arsenal') & (df.AwayTeam == 'Everton'),'Date'] = '10/09/2022'\n",
    "    df.loc[(df.HomeTeam == 'Liverpool') & (df.AwayTeam == 'Wolves'),'Date'] = '10/09/2022'\n",
    "    df.loc[(df.HomeTeam == 'Southampton') & (df.AwayTeam == 'Brentford'),'Date'] = '10/09/2022'\n",
    "    df.loc[(df.HomeTeam == 'Leeds') & (df.AwayTeam == \"Nott'm Forest\"),'Date'] = '10/09/2022'\n",
    "    df.loc[(df.HomeTeam == 'Bournemouth') & (df.AwayTeam == \"Brighton\"),'Date'] = '10/09/2022'\n",
    "    df.loc[(df.HomeTeam == 'Leicester') & (df.AwayTeam == \"Aston Villa\"),'Date'] = '10/09/2022'\n",
    "    #Matchday 8\n",
    "    df.loc[(df.HomeTeam == 'Man United') & (df.AwayTeam == 'Leeds'),'Date'] = '16/09/2022'\n",
    "    df.loc[(df.HomeTeam == 'Brighton') & (df.AwayTeam == 'Crystal Palace'),'Date'] = '16/09/2022'\n",
    "    df.loc[(df.HomeTeam == 'Chelsea') & (df.AwayTeam == 'Liverpool'),'Date'] = '16/09/2023'\n",
    "    #Matchday 12\n",
    "    df.loc[(df.HomeTeam == 'Arsenal') & (df.AwayTeam == 'Man City'),'Date'] = '19/10/2022'\n",
    "    #Matchday 17\n",
    "    df.loc[(df.HomeTeam == 'Betis') & (df.AwayTeam == 'Barcellona'),'Date'] = '13/01/2023'\n",
    "    df.loc[(df.HomeTeam == 'Real Madrid') & (df.AwayTeam == 'Valencia'),'Date'] = '13/01/2023'\n",
    "    #Matchday 25\n",
    "    df.loc[(df.HomeTeam == 'Man United') & (df.AwayTeam == 'Brentford'),'Date'] = '24/02/2023'\n",
    "    ### Fix MatchDays -----------------\n",
    "    \n",
    "    df['datetime'] = pd.to_datetime(df.Date, format='%d/%m/%Y')\n",
    "    df['year'] = pd.to_datetime(df.Date, format='%d/%m/%Y').dt.year\n",
    "    df['month'] = pd.to_datetime(df.Date,format='%d/%m/%Y').dt.month\n",
    "    df['day'] = pd.to_datetime(df.Date,format='%d/%m/%Y').dt.day\n",
    "    df['week'] = pd.to_datetime(df.Date,format='%d/%m/%Y').dt.isocalendar().week\n",
    "    df['weekday'] = pd.to_datetime(df.Date,format='%d/%m/%Y').dt.weekday\n",
    "    \n",
    "    df = df.sort_values(['year', 'month', 'day'])\n",
    "    \n",
    "    # Assign sequential week numbers to blocks of days from Thursday to Wednesday\n",
    "    giornata = 1\n",
    "    curr_daytime = None\n",
    "    for i, row in df.iterrows():\n",
    "        curr_daytime = row['datetime'] if curr_daytime is None else curr_daytime\n",
    "        if(curr_daytime is not None):\n",
    "            if (row['datetime'] - curr_daytime)/ np.timedelta64(1, 'D') > 1:\n",
    "                giornata+=1\n",
    "        else:\n",
    "            giornata+=1\n",
    "        curr_daytime = row['datetime']\n",
    "        df.at[i, 'giornata'] = giornata\n",
    "        \n",
    "    file_clean_dir = f\"../data/clean/{os.getenv('season')}/\"\n",
    "    if not os.path.exists(file_clean_dir):\n",
    "        os.makedirs(file_clean_dir)\n",
    "\n",
    "    df.to_csv(f\"{file_clean_dir}{filename}\", index=False)\n",
    "    data_paths[competition] = f\"{file_clean_dir}{filename}\""
   ]
  },
  {
   "cell_type": "markdown",
   "id": "bd6163a1-db46-4542-9478-7a276518ce78",
   "metadata": {
    "tags": []
   },
   "source": [
    "## Data Preparations"
   ]
  },
  {
   "cell_type": "markdown",
   "id": "32005867-a896-4e89-b190-2a6521f766d9",
   "metadata": {
    "tags": []
   },
   "source": [
    "#### Create main dataframe with all leagues"
   ]
  },
  {
   "cell_type": "code",
   "execution_count": 714,
   "id": "daba8d7e-b0b4-4a3a-b9dc-b9fd44a8b5bc",
   "metadata": {
    "tags": []
   },
   "outputs": [],
   "source": [
    "matches_raw_df = None\n",
    "for competition, data_path in data_paths.items():\n",
    "    df_ = pd.read_csv(data_paths[competition], index_col=None)\n",
    "    df_['competition'] = competition\n",
    "    if(matches_raw_df is None):\n",
    "        matches_raw_df = df_\n",
    "    else:\n",
    "        matches_raw_df = pd.concat([matches_raw_df,df_])"
   ]
  },
  {
   "cell_type": "code",
   "execution_count": 715,
   "id": "e74a8716-7234-4a67-90ca-64f7e7bcb5ae",
   "metadata": {
    "tags": []
   },
   "outputs": [
    {
     "data": {
      "text/html": [
       "<div>\n",
       "<style scoped>\n",
       "    .dataframe tbody tr th:only-of-type {\n",
       "        vertical-align: middle;\n",
       "    }\n",
       "\n",
       "    .dataframe tbody tr th {\n",
       "        vertical-align: top;\n",
       "    }\n",
       "\n",
       "    .dataframe thead th {\n",
       "        text-align: right;\n",
       "    }\n",
       "</style>\n",
       "<table border=\"1\" class=\"dataframe\">\n",
       "  <thead>\n",
       "    <tr style=\"text-align: right;\">\n",
       "      <th></th>\n",
       "      <th>Div</th>\n",
       "      <th>Date</th>\n",
       "      <th>Time</th>\n",
       "      <th>HomeTeam</th>\n",
       "      <th>AwayTeam</th>\n",
       "      <th>FTHG</th>\n",
       "      <th>FTAG</th>\n",
       "      <th>FTR</th>\n",
       "      <th>HTHG</th>\n",
       "      <th>HTAG</th>\n",
       "      <th>...</th>\n",
       "      <th>AvgCAHA</th>\n",
       "      <th>datetime</th>\n",
       "      <th>year</th>\n",
       "      <th>month</th>\n",
       "      <th>day</th>\n",
       "      <th>week</th>\n",
       "      <th>weekday</th>\n",
       "      <th>giornata</th>\n",
       "      <th>competition</th>\n",
       "      <th>Referee</th>\n",
       "    </tr>\n",
       "  </thead>\n",
       "  <tbody>\n",
       "    <tr>\n",
       "      <th>275</th>\n",
       "      <td>I1</td>\n",
       "      <td>02/04/2023</td>\n",
       "      <td>14:00</td>\n",
       "      <td>Spezia</td>\n",
       "      <td>Salernitana</td>\n",
       "      <td>1</td>\n",
       "      <td>1</td>\n",
       "      <td>D</td>\n",
       "      <td>0</td>\n",
       "      <td>1</td>\n",
       "      <td>...</td>\n",
       "      <td>1.83</td>\n",
       "      <td>2023-04-02</td>\n",
       "      <td>2023</td>\n",
       "      <td>4</td>\n",
       "      <td>2</td>\n",
       "      <td>13</td>\n",
       "      <td>6</td>\n",
       "      <td>28.0</td>\n",
       "      <td>Serie A</td>\n",
       "      <td>NaN</td>\n",
       "    </tr>\n",
       "    <tr>\n",
       "      <th>276</th>\n",
       "      <td>I1</td>\n",
       "      <td>02/04/2023</td>\n",
       "      <td>17:00</td>\n",
       "      <td>Roma</td>\n",
       "      <td>Sampdoria</td>\n",
       "      <td>3</td>\n",
       "      <td>0</td>\n",
       "      <td>H</td>\n",
       "      <td>0</td>\n",
       "      <td>0</td>\n",
       "      <td>...</td>\n",
       "      <td>2.05</td>\n",
       "      <td>2023-04-02</td>\n",
       "      <td>2023</td>\n",
       "      <td>4</td>\n",
       "      <td>2</td>\n",
       "      <td>13</td>\n",
       "      <td>6</td>\n",
       "      <td>28.0</td>\n",
       "      <td>Serie A</td>\n",
       "      <td>NaN</td>\n",
       "    </tr>\n",
       "    <tr>\n",
       "      <th>277</th>\n",
       "      <td>I1</td>\n",
       "      <td>02/04/2023</td>\n",
       "      <td>19:45</td>\n",
       "      <td>Napoli</td>\n",
       "      <td>Milan</td>\n",
       "      <td>0</td>\n",
       "      <td>4</td>\n",
       "      <td>A</td>\n",
       "      <td>0</td>\n",
       "      <td>2</td>\n",
       "      <td>...</td>\n",
       "      <td>1.88</td>\n",
       "      <td>2023-04-02</td>\n",
       "      <td>2023</td>\n",
       "      <td>4</td>\n",
       "      <td>2</td>\n",
       "      <td>13</td>\n",
       "      <td>6</td>\n",
       "      <td>28.0</td>\n",
       "      <td>Serie A</td>\n",
       "      <td>NaN</td>\n",
       "    </tr>\n",
       "    <tr>\n",
       "      <th>278</th>\n",
       "      <td>I1</td>\n",
       "      <td>03/04/2023</td>\n",
       "      <td>17:30</td>\n",
       "      <td>Empoli</td>\n",
       "      <td>Lecce</td>\n",
       "      <td>1</td>\n",
       "      <td>0</td>\n",
       "      <td>H</td>\n",
       "      <td>0</td>\n",
       "      <td>0</td>\n",
       "      <td>...</td>\n",
       "      <td>2.07</td>\n",
       "      <td>2023-04-03</td>\n",
       "      <td>2023</td>\n",
       "      <td>4</td>\n",
       "      <td>3</td>\n",
       "      <td>14</td>\n",
       "      <td>0</td>\n",
       "      <td>28.0</td>\n",
       "      <td>Serie A</td>\n",
       "      <td>NaN</td>\n",
       "    </tr>\n",
       "    <tr>\n",
       "      <th>279</th>\n",
       "      <td>I1</td>\n",
       "      <td>03/04/2023</td>\n",
       "      <td>19:45</td>\n",
       "      <td>Sassuolo</td>\n",
       "      <td>Torino</td>\n",
       "      <td>1</td>\n",
       "      <td>1</td>\n",
       "      <td>D</td>\n",
       "      <td>1</td>\n",
       "      <td>0</td>\n",
       "      <td>...</td>\n",
       "      <td>1.77</td>\n",
       "      <td>2023-04-03</td>\n",
       "      <td>2023</td>\n",
       "      <td>4</td>\n",
       "      <td>3</td>\n",
       "      <td>14</td>\n",
       "      <td>0</td>\n",
       "      <td>28.0</td>\n",
       "      <td>Serie A</td>\n",
       "      <td>NaN</td>\n",
       "    </tr>\n",
       "  </tbody>\n",
       "</table>\n",
       "<p>5 rows × 114 columns</p>\n",
       "</div>"
      ],
      "text/plain": [
       "    Div        Date   Time  HomeTeam     AwayTeam  FTHG  FTAG FTR  HTHG  HTAG   \n",
       "275  I1  02/04/2023  14:00    Spezia  Salernitana     1     1   D     0     1  \\\n",
       "276  I1  02/04/2023  17:00      Roma    Sampdoria     3     0   H     0     0   \n",
       "277  I1  02/04/2023  19:45    Napoli        Milan     0     4   A     0     2   \n",
       "278  I1  03/04/2023  17:30    Empoli        Lecce     1     0   H     0     0   \n",
       "279  I1  03/04/2023  19:45  Sassuolo       Torino     1     1   D     1     0   \n",
       "\n",
       "     ... AvgCAHA    datetime  year  month  day  week  weekday  giornata   \n",
       "275  ...    1.83  2023-04-02  2023      4    2    13        6      28.0  \\\n",
       "276  ...    2.05  2023-04-02  2023      4    2    13        6      28.0   \n",
       "277  ...    1.88  2023-04-02  2023      4    2    13        6      28.0   \n",
       "278  ...    2.07  2023-04-03  2023      4    3    14        0      28.0   \n",
       "279  ...    1.77  2023-04-03  2023      4    3    14        0      28.0   \n",
       "\n",
       "     competition  Referee  \n",
       "275      Serie A      NaN  \n",
       "276      Serie A      NaN  \n",
       "277      Serie A      NaN  \n",
       "278      Serie A      NaN  \n",
       "279      Serie A      NaN  \n",
       "\n",
       "[5 rows x 114 columns]"
      ]
     },
     "execution_count": 715,
     "metadata": {},
     "output_type": "execute_result"
    }
   ],
   "source": [
    "matches_raw_df[matches_raw_df.competition=='Serie A'].tail()"
   ]
  },
  {
   "cell_type": "markdown",
   "id": "108569a9-d737-4579-8ed8-5609c89ab530",
   "metadata": {},
   "source": [
    "#### Check matchday number uniqueness"
   ]
  },
  {
   "cell_type": "code",
   "execution_count": 716,
   "id": "973dd2cb-a762-4887-9347-a333c2cdc0c1",
   "metadata": {
    "tags": []
   },
   "outputs": [],
   "source": [
    "tt1 = df[['HomeTeam','giornata']]\n",
    "tt1.columns = ['team','giornata']\n",
    "tt1['value'] = 1\n",
    "tt2 = df[['AwayTeam','giornata']]\n",
    "tt2.columns = ['team','giornata']\n",
    "tt2['value'] = 1\n",
    "assert (pd.concat([tt1,tt2]).groupby(['team','giornata']).count() > 1).sum()['value'] == 0,\\\n",
    "        'Some teams have the same matchday associated more than once'"
   ]
  },
  {
   "cell_type": "code",
   "execution_count": 717,
   "id": "12024c04-7abc-4039-bf17-bbb73c484a38",
   "metadata": {
    "tags": []
   },
   "outputs": [
    {
     "data": {
      "text/html": [
       "<div>\n",
       "<style scoped>\n",
       "    .dataframe tbody tr th:only-of-type {\n",
       "        vertical-align: middle;\n",
       "    }\n",
       "\n",
       "    .dataframe tbody tr th {\n",
       "        vertical-align: top;\n",
       "    }\n",
       "\n",
       "    .dataframe thead th {\n",
       "        text-align: right;\n",
       "    }\n",
       "</style>\n",
       "<table border=\"1\" class=\"dataframe\">\n",
       "  <thead>\n",
       "    <tr style=\"text-align: right;\">\n",
       "      <th></th>\n",
       "      <th>team</th>\n",
       "      <th>giornata</th>\n",
       "      <th>value</th>\n",
       "    </tr>\n",
       "  </thead>\n",
       "  <tbody>\n",
       "  </tbody>\n",
       "</table>\n",
       "</div>"
      ],
      "text/plain": [
       "Empty DataFrame\n",
       "Columns: [team, giornata, value]\n",
       "Index: []"
      ]
     },
     "execution_count": 717,
     "metadata": {},
     "output_type": "execute_result"
    }
   ],
   "source": [
    "s = pd.concat([tt1,tt2]).groupby(['team','giornata']).count().reset_index()\n",
    "s[s.value > 1]"
   ]
  },
  {
   "cell_type": "code",
   "execution_count": 719,
   "id": "cd079f9b-0309-4efb-9e66-e7d950f84f83",
   "metadata": {
    "tags": []
   },
   "outputs": [
    {
     "data": {
      "text/html": [
       "<div>\n",
       "<style scoped>\n",
       "    .dataframe tbody tr th:only-of-type {\n",
       "        vertical-align: middle;\n",
       "    }\n",
       "\n",
       "    .dataframe tbody tr th {\n",
       "        vertical-align: top;\n",
       "    }\n",
       "\n",
       "    .dataframe thead th {\n",
       "        text-align: right;\n",
       "    }\n",
       "</style>\n",
       "<table border=\"1\" class=\"dataframe\">\n",
       "  <thead>\n",
       "    <tr style=\"text-align: right;\">\n",
       "      <th></th>\n",
       "      <th>position</th>\n",
       "      <th>playedGames</th>\n",
       "      <th>form</th>\n",
       "      <th>won</th>\n",
       "      <th>draw</th>\n",
       "      <th>lost</th>\n",
       "      <th>points</th>\n",
       "      <th>goalsFor</th>\n",
       "      <th>goalsAgainst</th>\n",
       "      <th>goalDifference</th>\n",
       "      <th>team_short_name</th>\n",
       "      <th>team_group</th>\n",
       "      <th>competition</th>\n",
       "    </tr>\n",
       "  </thead>\n",
       "  <tbody>\n",
       "    <tr>\n",
       "      <th>0</th>\n",
       "      <td>1</td>\n",
       "      <td>29</td>\n",
       "      <td>None</td>\n",
       "      <td>24</td>\n",
       "      <td>2</td>\n",
       "      <td>3</td>\n",
       "      <td>74</td>\n",
       "      <td>66</td>\n",
       "      <td>21</td>\n",
       "      <td>45</td>\n",
       "      <td>Napoli</td>\n",
       "      <td>0</td>\n",
       "      <td>Serie A</td>\n",
       "    </tr>\n",
       "    <tr>\n",
       "      <th>1</th>\n",
       "      <td>2</td>\n",
       "      <td>29</td>\n",
       "      <td>None</td>\n",
       "      <td>17</td>\n",
       "      <td>7</td>\n",
       "      <td>5</td>\n",
       "      <td>58</td>\n",
       "      <td>46</td>\n",
       "      <td>20</td>\n",
       "      <td>26</td>\n",
       "      <td>Lazio</td>\n",
       "      <td>0</td>\n",
       "      <td>Serie A</td>\n",
       "    </tr>\n",
       "    <tr>\n",
       "      <th>2</th>\n",
       "      <td>3</td>\n",
       "      <td>29</td>\n",
       "      <td>None</td>\n",
       "      <td>16</td>\n",
       "      <td>5</td>\n",
       "      <td>8</td>\n",
       "      <td>53</td>\n",
       "      <td>39</td>\n",
       "      <td>26</td>\n",
       "      <td>13</td>\n",
       "      <td>Roma</td>\n",
       "      <td>0</td>\n",
       "      <td>Serie A</td>\n",
       "    </tr>\n",
       "    <tr>\n",
       "      <th>3</th>\n",
       "      <td>4</td>\n",
       "      <td>29</td>\n",
       "      <td>None</td>\n",
       "      <td>15</td>\n",
       "      <td>7</td>\n",
       "      <td>7</td>\n",
       "      <td>52</td>\n",
       "      <td>48</td>\n",
       "      <td>36</td>\n",
       "      <td>12</td>\n",
       "      <td>Milan</td>\n",
       "      <td>0</td>\n",
       "      <td>Serie A</td>\n",
       "    </tr>\n",
       "    <tr>\n",
       "      <th>4</th>\n",
       "      <td>5</td>\n",
       "      <td>29</td>\n",
       "      <td>None</td>\n",
       "      <td>16</td>\n",
       "      <td>3</td>\n",
       "      <td>10</td>\n",
       "      <td>51</td>\n",
       "      <td>48</td>\n",
       "      <td>33</td>\n",
       "      <td>15</td>\n",
       "      <td>Inter</td>\n",
       "      <td>0</td>\n",
       "      <td>Serie A</td>\n",
       "    </tr>\n",
       "  </tbody>\n",
       "</table>\n",
       "</div>"
      ],
      "text/plain": [
       "   position  playedGames  form  won  draw  lost  points  goalsFor   \n",
       "0         1           29  None   24     2     3      74        66  \\\n",
       "1         2           29  None   17     7     5      58        46   \n",
       "2         3           29  None   16     5     8      53        39   \n",
       "3         4           29  None   15     7     7      52        48   \n",
       "4         5           29  None   16     3    10      51        48   \n",
       "\n",
       "   goalsAgainst  goalDifference team_short_name  team_group competition  \n",
       "0            21              45          Napoli           0     Serie A  \n",
       "1            20              26           Lazio           0     Serie A  \n",
       "2            26              13            Roma           0     Serie A  \n",
       "3            36              12           Milan           0     Serie A  \n",
       "4            33              15           Inter           0     Serie A  "
      ]
     },
     "execution_count": 719,
     "metadata": {},
     "output_type": "execute_result"
    }
   ],
   "source": [
    "standings_df = None\n",
    "for competition, standing in standings.items():\n",
    "    df_ = standings[competition]\n",
    "    df_['competition'] = competition\n",
    "    if(standings_df is None):\n",
    "        standings_df = df_\n",
    "    else:\n",
    "        standings_df = pd.concat([standings_df,df_])\n",
    "standings_df.to_csv('data/outputs/standings.csv', index=False)\n",
    "standings_df.head()"
   ]
  },
  {
   "cell_type": "code",
   "execution_count": null,
   "id": "f2edeba3-7a73-451c-bcde-eeccc2029fc3",
   "metadata": {
    "tags": []
   },
   "outputs": [],
   "source": [
    "def get_result(row):\n",
    "    if(row['goal_fatti'] > row['goal_subiti']):\n",
    "        return 'Win'\n",
    "    if(row['goal_fatti'] == row['goal_subiti']):\n",
    "        return 'Draw'\n",
    "    return 'Loss'"
   ]
  },
  {
   "cell_type": "code",
   "execution_count": null,
   "id": "77701e2c-8ca6-4c65-8d27-c4bcafbb7975",
   "metadata": {
    "tags": []
   },
   "outputs": [],
   "source": [
    "df = matches_raw_df\n",
    "df_match_home = df\n",
    "df_match_home['main_team'] = df.HomeTeam\n",
    "df_match_home['opponent_team'] = df.AwayTeam\n",
    "df_match_home['goal_fatti'] = df['FTHG']\n",
    "df_match_home['goal_subiti'] = df['FTAG']\n",
    "df_match_home['tot_goals'] = df['goal_fatti'] + df['goal_subiti']\n",
    "df_match_home['no_goal'] = (df['goal_fatti'] == 0) | (df['goal_subiti'] == 0)\n",
    "df_match_home['goal'] = (df['goal_fatti'] != 0) & (df['goal_subiti'] != 0)\n",
    "df_match_home['goal_no_goal'] = df_match_home['no_goal'].map({True: 'No Goal', False: 'Goal'})\n",
    "df_match_home['away_home'] = 'home'\n",
    "df_match_home['result'] = df_match_home.apply(get_result, axis=1)\n",
    "df_match_home['team_has_scored'] = df_match_home['goal_fatti'] > 0\n",
    "df_match_home['team_has_conceded_goal'] = df_match_home['goal_subiti'] > 0\n",
    "df_match_home = df_match_home[['main_team','opponent_team','goal_fatti', 'no_goal', 'goal', 'tot_goals',\\\n",
    "                               'goal_subiti','away_home','result','team_has_scored','giornata','goal_no_goal',\\\n",
    "                              'team_has_conceded_goal','competition']]\n",
    "\n",
    "df_match_away = df\n",
    "df_match_away['main_team'] = df.AwayTeam\n",
    "df_match_away['opponent_team'] = df.HomeTeam\n",
    "df_match_away['goal_fatti'] = df['FTAG']\n",
    "df_match_away['goal_subiti'] = df['FTHG']\n",
    "df_match_away['tot_goals'] = df['goal_fatti'] + df['goal_subiti']\n",
    "df_match_away['away_home'] = 'away'\n",
    "df_match_away['result'] = df_match_away.apply(get_result, axis=1)\n",
    "df_match_away['team_has_scored'] = df_match_away['goal_fatti'] > 0\n",
    "df_match_away['team_has_conceded_goal'] = df_match_away['goal_subiti'] > 0\n",
    "df_match_away['no_goal'] = (df['goal_fatti'] == 0) | (df['goal_subiti'] == 0)\n",
    "df_match_away['goal'] = (df['goal_fatti'] != 0) & (df['goal_subiti'] != 0)\n",
    "df_match_away['goal_no_goal'] = df_match_away['no_goal'].map({True: 'No Goal', False: 'Goal'})\n",
    "df_match_away = df_match_away[['main_team','opponent_team','goal_fatti', 'no_goal', 'goal', 'tot_goals',\\\n",
    "                               'goal_subiti','away_home','result','team_has_scored','giornata','goal_no_goal',\\\n",
    "                              'team_has_conceded_goal','competition']]\n",
    "matches_df = pd.concat([df_match_home, df_match_away])\n",
    "matches_df = matches_df.merge(standings_df, on='competition')\n",
    "matches_df = matches_df[matches_df.opponent_team == matches_df.team_short_name]\n",
    "matches_df.to_csv('../data/outputs/matches.csv', index=False)\n",
    "matches_df.head()"
   ]
  },
  {
   "cell_type": "code",
   "execution_count": null,
   "id": "e33143eb-66cf-4d66-a8bc-7c410bc24524",
   "metadata": {
    "tags": []
   },
   "outputs": [],
   "source": [
    "assert len(matches_df[matches_df.team_group.isna()]) == 0, 'Some teams have no correpondence in standing'"
   ]
  },
  {
   "cell_type": "markdown",
   "id": "10f88232-06c6-42e0-a493-4751c1db525f",
   "metadata": {
    "jp-MarkdownHeadingCollapsed": true,
    "tags": []
   },
   "source": [
    "## Metrics Calculation"
   ]
  },
  {
   "cell_type": "code",
   "execution_count": null,
   "id": "643416a0-8a7a-490e-9fe4-2e155c4983ed",
   "metadata": {},
   "outputs": [],
   "source": [
    "tt = matches_df.copy()\n",
    "tt_all = matches_df.copy()\n",
    "tt_all['team_group'] = 'all'\n",
    "tt = pd.concat([tt, tt_all])\n",
    "tt['no_goal_streak_weighted'] = tt['no_goal'] * tt['giornata']\n",
    "tt['team_has_scored_streak_weighted'] = tt['team_has_scored'] * tt['giornata']\n",
    "tt['team_has_conceded_goal_streak_weighted'] = tt['team_has_conceded_goal'] * tt['giornata']\n",
    "tt['win'] = tt['goal_fatti'] > tt['goal_subiti']\n",
    "tt['draw'] = tt['goal_fatti'] == tt['goal_subiti']\n",
    "tt['loss'] = tt['goal_fatti'] < tt['goal_subiti']\n",
    "tt['win_streak_weighted'] = tt['win'] * tt['giornata']\n",
    "tt['draw_streak_weighted'] = tt['draw'] * tt['giornata']\n",
    "tt['loss_streak_weighted'] = tt['loss'] * tt['giornata']"
   ]
  },
  {
   "cell_type": "markdown",
   "id": "b5c7af87-b473-4635-ab3d-871fd095a1e6",
   "metadata": {},
   "source": [
    "### NoGoal - Goal - Group"
   ]
  },
  {
   "cell_type": "code",
   "execution_count": null,
   "id": "493d496b-5f3b-43f2-b96c-a756be0fc12d",
   "metadata": {
    "tags": []
   },
   "outputs": [],
   "source": [
    "tt1 = tt[['main_team','no_goal','team_group','competition']].groupby(['main_team','team_group','competition']).count().reset_index().rename(columns={'no_goal':'n_matches'})\n",
    "tt2 = tt[['main_team','no_goal','team_group','competition','no_goal_streak_weighted', 'giornata']].groupby(['main_team','team_group','competition']).sum().reset_index().rename(columns={'giornata':'tot_giornata'})\n",
    "tt3 = tt1.merge(tt2, on=['main_team','team_group','competition'])\n",
    "tt3['no_goal_streak_weighted_ratio'] = tt3['no_goal_streak_weighted']/tt3['tot_giornata']\n",
    "tt3['no_goal_ratio'] = tt3['no_goal']/tt3['n_matches']\n",
    "tt3['goal_ratio'] = 1 - tt3['no_goal_ratio']\n",
    "no_goal_group = tt3.copy()\n",
    "no_goal_group.to_csv('../data/outputs/no_goal_group.csv', index=False)\n",
    "no_goal_group.head()"
   ]
  },
  {
   "cell_type": "code",
   "execution_count": null,
   "id": "51d9e5a2-15ea-48ed-97cd-98fb80ae4f9e",
   "metadata": {
    "tags": []
   },
   "outputs": [],
   "source": [
    "tt1 = tt[['main_team','no_goal','team_group','away_home','competition']]\\\n",
    "        .groupby(['main_team','team_group','away_home','competition'])\\\n",
    "        .count()\\\n",
    "        .reset_index()\\\n",
    "        .rename(columns={'no_goal':'n_matches'})\n",
    "tt2 = tt[['main_team','no_goal','team_group','no_goal_streak_weighted', 'giornata','away_home','competition']]\\\n",
    "        .groupby(['main_team','team_group','away_home','competition'])\\\n",
    "        .sum()\\\n",
    "        .reset_index()\\\n",
    "        .rename(columns={'giornata':'tot_giornata'})\n",
    "tt3 = tt1.merge(tt2, on=['main_team','team_group','away_home','competition'])\n",
    "tt3['no_goal_streak_weighted_ratio'] = tt3['no_goal_streak_weighted']/tt3['tot_giornata']\n",
    "tt3['no_goal_ratio'] = tt3['no_goal']/tt3['n_matches']\n",
    "tt3['goal_ratio'] = 1 - tt3['no_goal_ratio']\n",
    "no_goal_group_away_home = tt3.copy()\n",
    "no_goal_group_away_home.to_csv('../data/outputs/no_goal_group_away_home.csv', index=False)\n",
    "no_goal_group_away_home.head()"
   ]
  },
  {
   "cell_type": "markdown",
   "id": "03226d73-d48d-4fdd-82b4-1e7cb39acbb8",
   "metadata": {
    "tags": []
   },
   "source": [
    "### N° Goal - Fatti/Subiti"
   ]
  },
  {
   "cell_type": "code",
   "execution_count": null,
   "id": "851a60d4-c0e8-4119-82ab-d351a1a92a34",
   "metadata": {
    "tags": []
   },
   "outputs": [],
   "source": [
    "tt1 = tt[['main_team','giornata','team_group','competition']]\\\n",
    "        .groupby(['main_team','team_group','competition'])\\\n",
    "        .count()\\\n",
    "        .reset_index()\\\n",
    "        .rename(columns={'giornata':'n_matches'})\n",
    "tt2 = tt[['main_team','goal_fatti','goal_subiti','team_group','competition']]\\\n",
    "        .groupby(['main_team','team_group','competition'])\\\n",
    "        .mean()\\\n",
    "        .reset_index()\n",
    "tt3 = tt1.merge(tt2, on=['main_team','team_group','competition']).rename(columns={\n",
    "        'goal_subiti':'avg_goal_subiti',\n",
    "        'goal_fatti':'avg_goal_fatti'\n",
    "})\n",
    "n_goal_group = tt3.copy()\n",
    "n_goal_group.to_csv('../data/outputs/num_goals_group.csv', index=False)\n",
    "n_goal_group.head()"
   ]
  },
  {
   "cell_type": "markdown",
   "id": "06fc5c12-d2d2-4b2c-b18f-34e13884a070",
   "metadata": {},
   "source": [
    "### Has Scored / Has Conceded Goal "
   ]
  },
  {
   "cell_type": "code",
   "execution_count": null,
   "id": "de4191b3-2f2b-413b-a0b1-4638bf714aec",
   "metadata": {},
   "outputs": [],
   "source": [
    "tt1 = tt[['main_team','team_has_scored','team_group','competition']].groupby(['main_team','team_group','competition']).count().reset_index().rename(columns={'team_has_scored':'n_matches'})\n",
    "tt2 = tt[['main_team','team_has_scored','team_has_conceded_goal','team_group','competition','team_has_scored_streak_weighted', 'team_has_conceded_goal_streak_weighted', 'giornata']].groupby(['main_team','team_group','competition']).sum().reset_index().rename(columns={'giornata':'tot_giornata'})\n",
    "tt3 = tt1.merge(tt2, on=['main_team','team_group','competition'])\n",
    "tt3['team_has_scored_streak_weighted_ratio'] = tt3['team_has_scored_streak_weighted']/tt3['tot_giornata']\n",
    "tt3['team_has_conceded_goal_streak_weighted_ratio'] = tt3['team_has_conceded_goal_streak_weighted']/tt3['tot_giornata']\n",
    "tt3['team_has_conceded_goal_ratio'] = tt3['team_has_conceded_goal']/tt3['n_matches']\n",
    "tt3['team_has_scored_ratio'] = tt3['team_has_scored']/tt3['n_matches']\n",
    "scored_conceded_goal_group = tt3.copy()\n",
    "scored_conceded_goal_group.to_csv('../data/outputs/team_scored_conceded_goal_group.csv', index=False)\n",
    "scored_conceded_goal_group.head()\n"
   ]
  },
  {
   "cell_type": "code",
   "execution_count": null,
   "id": "5bb76c24-f723-46b8-a5ad-a94c4cb0ad83",
   "metadata": {
    "tags": []
   },
   "outputs": [],
   "source": [
    "tt1 = tt[['main_team','team_has_scored','team_group','competition','away_home']]\\\n",
    "        .groupby(['main_team','team_group','competition','away_home'])\\\n",
    "        .count().reset_index().rename(columns={'team_has_scored':'n_matches'})\n",
    "tt2 = tt[['main_team','team_has_scored','team_has_conceded_goal',\n",
    "          'team_group','competition','team_has_scored_streak_weighted',\n",
    "          'team_has_conceded_goal_streak_weighted', 'giornata','away_home']]\\\n",
    "        .groupby(['main_team','team_group','competition','away_home'])\\\n",
    "        .sum().reset_index().rename(columns={'giornata':'tot_giornata'})\n",
    "tt3 = tt1.merge(tt2, on=['main_team','team_group','competition','away_home'])\n",
    "tt3['team_has_scored_streak_weighted_ratio'] = tt3['team_has_scored_streak_weighted']/tt3['tot_giornata']\n",
    "tt3['team_has_conceded_goal_streak_weighted_ratio'] = tt3['team_has_conceded_goal_streak_weighted']/tt3['tot_giornata']\n",
    "tt3['team_has_conceded_goal_ratio'] = tt3['team_has_conceded_goal']/tt3['n_matches']\n",
    "tt3['team_has_scored_ratio'] = tt3['team_has_scored']/tt3['n_matches']\n",
    "scored_conceded_goal_group_away_home = tt3.copy()\n",
    "scored_conceded_goal_group_away_home.to_csv('../data/outputs/team_scored_conceded_goal_group_away_home.csv', index=False)\n",
    "scored_conceded_goal_group_away_home.head()\n"
   ]
  },
  {
   "cell_type": "markdown",
   "id": "c7a0372e-1694-417c-b6b3-495723462bdb",
   "metadata": {
    "tags": []
   },
   "source": [
    "### Win/Draw/Loss"
   ]
  },
  {
   "cell_type": "code",
   "execution_count": null,
   "id": "fb638baa-ebda-4049-a145-ff25d7dfaa36",
   "metadata": {},
   "outputs": [],
   "source": [
    "tt1 = tt[['main_team','giornata','team_group','competition']]\\\n",
    "        .groupby(['main_team','team_group','competition'])\\\n",
    "        .count()\\\n",
    "        .reset_index()\\\n",
    "        .rename(columns={'giornata':'n_matches'})\n",
    "tt11 = tt[['main_team','win_streak_weighted','draw_streak_weighted','loss_streak_weighted','giornata','team_group','competition']]\\\n",
    "        .groupby(['main_team','team_group','competition'])\\\n",
    "        .sum()\\\n",
    "        .reset_index()\\\n",
    "        .rename(columns={'giornata':'tot_giornata'})\n",
    "tt2 = tt[['main_team','win','draw','loss','team_group','competition']]\\\n",
    "        .groupby(['main_team','team_group','competition'])\\\n",
    "        .mean()\\\n",
    "        .reset_index()\n",
    "tt3 = tt1.merge(tt2, on=['main_team','team_group','competition'])\\\n",
    "        .merge(tt11, on=['main_team','team_group','competition'])\\\n",
    "        .rename(columns={\n",
    "            'win':'avg_win',\n",
    "            'draw':'avg_draw',\n",
    "            'loss':'avg_loss'\n",
    "        })\n",
    "tt3['win_streak_weighted_ratio'] = tt3['win_streak_weighted']/tt3['tot_giornata']\n",
    "tt3['draw_streak_weighted_ratio'] = tt3['draw_streak_weighted']/tt3['tot_giornata']\n",
    "tt3['loss_streak_weighted_ratio'] = tt3['loss_streak_weighted']/tt3['tot_giornata']\n",
    "win_draw_loss = tt3.copy()\n",
    "win_draw_loss.to_csv('../data/outputs/win_draw_loss.csv', index=False)\n",
    "win_draw_loss.head()"
   ]
  },
  {
   "cell_type": "code",
   "execution_count": null,
   "id": "beab9b15-fa4f-47cc-b181-6ce66387c533",
   "metadata": {
    "tags": []
   },
   "outputs": [],
   "source": [
    "tt1 = tt[['main_team','giornata','team_group','away_home','competition']]\\\n",
    "        .groupby(['main_team','team_group','competition','away_home'])\\\n",
    "        .count()\\\n",
    "        .reset_index()\\\n",
    "        .rename(columns={'giornata':'n_matches'})\n",
    "tt11 = tt[['main_team','win_streak_weighted','draw_streak_weighted','loss_streak_weighted','giornata','away_home','team_group','competition']]\\\n",
    "        .groupby(['main_team','team_group','competition','away_home'])\\\n",
    "        .sum()\\\n",
    "        .reset_index()\\\n",
    "        .rename(columns={'giornata':'tot_giornata'})\n",
    "tt2 = tt[['main_team','win','draw','loss','team_group','away_home','competition']]\\\n",
    "        .groupby(['main_team','team_group','competition','away_home'])\\\n",
    "        .mean()\\\n",
    "        .reset_index()\n",
    "tt3 = tt1.merge(tt2, on=['main_team','team_group','away_home','competition'])\\\n",
    "        .merge(tt11, on=['main_team','team_group','away_home','competition'])\\\n",
    "        .rename(columns={\n",
    "            'win':'avg_win',\n",
    "            'draw':'avg_draw',\n",
    "            'loss':'avg_loss'\n",
    "        })\n",
    "tt3['win_streak_weighted_ratio'] = tt3['win_streak_weighted']/tt3['tot_giornata']\n",
    "tt3['draw_streak_weighted_ratio'] = tt3['draw_streak_weighted']/tt3['tot_giornata']\n",
    "tt3['loss_streak_weighted_ratio'] = tt3['loss_streak_weighted']/tt3['tot_giornata']\n",
    "win_draw_loss_away_home = tt3.copy()\n",
    "win_draw_loss_away_home.to_csv('../data/outputs/win_draw_loss_away_home.csv', index=False)\n",
    "win_draw_loss_away_home.head()"
   ]
  },
  {
   "cell_type": "markdown",
   "id": "03d9fd85-7abf-4c93-8773-df535520dbde",
   "metadata": {
    "jp-MarkdownHeadingCollapsed": true,
    "tags": []
   },
   "source": [
    "## Load Statistics"
   ]
  },
  {
   "cell_type": "code",
   "execution_count": null,
   "id": "8efad6e6-3a04-4091-a255-4878527144ed",
   "metadata": {
    "tags": []
   },
   "outputs": [],
   "source": [
    "win_draw_loss = pd.read_csv('../data/outputs/win_draw_loss.csv')\n",
    "win_draw_loss.head()"
   ]
  },
  {
   "cell_type": "code",
   "execution_count": null,
   "id": "7965aaa4-527e-4cc3-a413-f2dd710c27cc",
   "metadata": {
    "tags": []
   },
   "outputs": [],
   "source": [
    "win_draw_loss_away_home = pd.read_csv('../data/outputs/win_draw_loss_away_home.csv')\n",
    "win_draw_loss_away_home.head()"
   ]
  },
  {
   "cell_type": "code",
   "execution_count": null,
   "id": "c6899d60-7f51-450e-82ee-951d7cd2c463",
   "metadata": {
    "tags": []
   },
   "outputs": [],
   "source": [
    "scored_conceded_goal_group_away_home= pd.read_csv('../data/outputs/team_scored_conceded_goal_group_away_home.csv')\n",
    "scored_conceded_goal_group_away_home.head()"
   ]
  },
  {
   "cell_type": "code",
   "execution_count": null,
   "id": "94608d0d-9e7a-4817-90ef-a62e4d1188b0",
   "metadata": {
    "tags": []
   },
   "outputs": [],
   "source": [
    "scored_conceded_goal_group = pd.read_csv('../data/outputs/team_scored_conceded_goal_group.csv')\n",
    "scored_conceded_goal_group.head()"
   ]
  },
  {
   "cell_type": "code",
   "execution_count": null,
   "id": "585bd90d-69bd-4bc2-bd67-e7b96368116b",
   "metadata": {
    "tags": []
   },
   "outputs": [],
   "source": [
    "no_goal_group = pd.read_csv('../data/outputs/no_goal_group.csv')\n",
    "no_goal_group.head()"
   ]
  },
  {
   "cell_type": "code",
   "execution_count": null,
   "id": "7f8fd619-b443-4e1f-991c-e129c62448f2",
   "metadata": {
    "tags": []
   },
   "outputs": [],
   "source": [
    "no_goal_group_away_home = pd.read_csv('../data/outputs/no_goal_group_away_home.csv')\n",
    "no_goal_group_away_home.head()"
   ]
  },
  {
   "cell_type": "code",
   "execution_count": null,
   "id": "cfff6195-14fe-4ab3-95de-6700203bdad4",
   "metadata": {
    "tags": []
   },
   "outputs": [],
   "source": [
    "n_goal_group = pd.read_csv('../data/outputs/num_goals_group.csv')\n",
    "n_goal_group.head()"
   ]
  },
  {
   "cell_type": "markdown",
   "id": "5c691b63-6dd5-4b87-8dee-40d909c1e2ee",
   "metadata": {},
   "source": [
    "## Match Analysis"
   ]
  },
  {
   "cell_type": "code",
   "execution_count": null,
   "id": "c5d68594-d5c9-4c3e-9d5f-51b511c3fb92",
   "metadata": {
    "tags": []
   },
   "outputs": [],
   "source": [
    "competition = 'Serie A'\n",
    "home_team = \"Sassuolo\"\n",
    "away_team = \"Juventus\""
   ]
  },
  {
   "cell_type": "code",
   "execution_count": null,
   "id": "da94c72a-51d4-46a6-a916-9af8ef7ff73f",
   "metadata": {
    "tags": []
   },
   "outputs": [],
   "source": [
    "matches_df[matches_df.main_team=='Napoli'].sort_values('giornata').tail()"
   ]
  },
  {
   "cell_type": "code",
   "execution_count": null,
   "id": "363bdb35-1e09-49c8-90c2-2ce097c309e5",
   "metadata": {
    "tags": []
   },
   "outputs": [],
   "source": [
    "home_team_group = str(standings_df[(standings_df.competition==competition)\\\n",
    "                     &(standings_df.team_short_name==home_team)]\\\n",
    "                .team_group.max())\n",
    "away_team_group = str(standings_df[(standings_df.competition==competition)\\\n",
    "                     &(standings_df.team_short_name==away_team)]\\\n",
    "                .team_group.max())"
   ]
  },
  {
   "cell_type": "markdown",
   "id": "2d5e2bbe-b53f-48ef-be1f-671b2dc75131",
   "metadata": {
    "tags": []
   },
   "source": [
    "### No Goal"
   ]
  },
  {
   "cell_type": "code",
   "execution_count": null,
   "id": "9c2910c2-be47-4fa7-83cc-b387f6e549f6",
   "metadata": {
    "tags": []
   },
   "outputs": [],
   "source": [
    "ng = pd.concat([no_goal_group[(no_goal_group.main_team == home_team)\\\n",
    "                        &(no_goal_group.competition==competition)\\\n",
    "                        &(no_goal_group.team_group.apply(str)=='all')],\\\n",
    "           no_goal_group[(no_goal_group.main_team == away_team)\\\n",
    "                        &(no_goal_group.competition==competition)\\\n",
    "                        &(no_goal_group.team_group.apply(str)=='all')]])"
   ]
  },
  {
   "cell_type": "code",
   "execution_count": null,
   "id": "b2214334-4de3-497f-bccc-3cbc19478e2f",
   "metadata": {
    "tags": []
   },
   "outputs": [],
   "source": [
    "ng[['main_team','n_matches','no_goal_ratio','no_goal_streak_weighted_ratio']]"
   ]
  },
  {
   "cell_type": "code",
   "execution_count": null,
   "id": "21c30ae7-3f74-44ce-805a-ad82d1faa573",
   "metadata": {
    "tags": []
   },
   "outputs": [],
   "source": [
    "fig, axes = plt.subplots(1, 2, figsize=(10, 3), sharey=True)\n",
    "plt.subplots_adjust(hspace=0.6, wspace=0.2)\n",
    "fig.suptitle(f\"No Goal\", fontsize=14, fontweight='bold')\n",
    "plt.subplots_adjust(top=0.8)\n",
    "\n",
    "ng[['main_team','no_goal_ratio']].set_index('main_team').plot(kind='bar',rot=0, title='No Goal Ratio', ax=axes[0])\n",
    "ng[['main_team','no_goal_streak_weighted_ratio']].set_index('main_team').plot(kind='bar',rot=0, title='Streak Weighted', ax=axes[1])\n",
    "\n",
    "[ax.legend().set_visible(False) for ax in axes]\n",
    "plt.show()"
   ]
  },
  {
   "cell_type": "markdown",
   "id": "db784f74-3e01-4e23-b8db-aa64594221e4",
   "metadata": {
    "tags": []
   },
   "source": [
    "### No Goal - Group"
   ]
  },
  {
   "cell_type": "code",
   "execution_count": null,
   "id": "a3525d89-d5ee-4279-a413-9f1381b060aa",
   "metadata": {
    "tags": []
   },
   "outputs": [],
   "source": [
    "ngg = pd.concat([no_goal_group[(no_goal_group.main_team == home_team)\\\n",
    "                        &(no_goal_group.competition==competition)\\\n",
    "                        &(no_goal_group.team_group==away_team_group)],\\\n",
    "           no_goal_group[(no_goal_group.main_team == away_team)\\\n",
    "                        &(no_goal_group.competition==competition)\\\n",
    "                        &(no_goal_group.team_group==home_team_group)]])"
   ]
  },
  {
   "cell_type": "code",
   "execution_count": null,
   "id": "96eaa946-a05e-48a2-8d3f-819805104190",
   "metadata": {
    "tags": []
   },
   "outputs": [],
   "source": [
    "ngg[['main_team','n_matches','no_goal_ratio','no_goal_streak_weighted_ratio']]"
   ]
  },
  {
   "cell_type": "code",
   "execution_count": null,
   "id": "45f138f8-0fcf-470d-8719-5a6207300235",
   "metadata": {
    "tags": []
   },
   "outputs": [],
   "source": [
    "fig, axes = plt.subplots(1, 2, figsize=(10, 3), sharey=True)\n",
    "plt.subplots_adjust(hspace=0.6, wspace=0.2)\n",
    "fig.suptitle(f\"No Goal - Group\", fontsize=14, fontweight='bold')\n",
    "plt.subplots_adjust(top=0.8)\n",
    "\n",
    "ngg[['main_team','no_goal_ratio']].set_index('main_team').plot(kind='bar',rot=0, title='No Goal Ratio', ax=axes[0])\n",
    "ngg[['main_team','no_goal_streak_weighted_ratio']].set_index('main_team').plot(kind='bar',rot=0, title='Streak Weighted', ax=axes[1])\n",
    "\n",
    "[ax.legend().set_visible(False) for ax in axes]\n",
    "plt.show()"
   ]
  },
  {
   "cell_type": "markdown",
   "id": "51caecfc-0520-4064-8522-43348be94cca",
   "metadata": {
    "tags": []
   },
   "source": [
    "### No Goal - Group - Home/Away"
   ]
  },
  {
   "cell_type": "code",
   "execution_count": null,
   "id": "821b5d3d-c646-4f10-92a3-e38004d6401d",
   "metadata": {
    "tags": []
   },
   "outputs": [],
   "source": [
    "nggah = pd.concat([no_goal_group_away_home[(no_goal_group_away_home.main_team == home_team)\\\n",
    "                        &(no_goal_group_away_home.competition==competition)\\\n",
    "                        &(no_goal_group_away_home.away_home=='home')\\\n",
    "                        &(no_goal_group_away_home.team_group==away_team_group)],\\\n",
    "           no_goal_group_away_home[(no_goal_group_away_home.main_team == away_team)\\\n",
    "                        &(no_goal_group_away_home.competition==competition)\\\n",
    "                        &(no_goal_group_away_home.away_home=='away')\\\n",
    "                        &(no_goal_group_away_home.team_group==home_team_group)]])"
   ]
  },
  {
   "cell_type": "code",
   "execution_count": null,
   "id": "a34f2a76-1d0e-4dc6-b888-74e677fb5195",
   "metadata": {
    "tags": []
   },
   "outputs": [],
   "source": [
    "nggah[['main_team','n_matches','no_goal_ratio', 'no_goal_streak_weighted_ratio']].set_index('main_team')"
   ]
  },
  {
   "cell_type": "code",
   "execution_count": null,
   "id": "b9184926-b537-4b8f-bab8-abddfbfb7205",
   "metadata": {
    "tags": []
   },
   "outputs": [],
   "source": [
    "fig, axes = plt.subplots(1, 2, figsize=(10, 3), sharey=True)\n",
    "plt.subplots_adjust(hspace=0.6, wspace=0.2)\n",
    "fig.suptitle(f\"No Goal - Group - (Home/Away)\", fontsize=14, fontweight='bold')\n",
    "plt.subplots_adjust(top=0.8)\n",
    "\n",
    "nggah[['main_team','no_goal_ratio']].set_index('main_team').plot(kind='bar',rot=0, title='No Goal Ratio', ax=axes[0])\n",
    "nggah[['main_team','no_goal_streak_weighted_ratio']].set_index('main_team').plot(kind='bar',rot=0, title='Streak Weighted', ax=axes[1])\n",
    "\n",
    "[ax.legend().set_visible(False) for ax in axes]\n",
    "plt.show()"
   ]
  },
  {
   "cell_type": "markdown",
   "id": "c768d891-9aa4-42cb-b126-7bf657ba71fe",
   "metadata": {},
   "source": [
    "### Has Scored - Group"
   ]
  },
  {
   "cell_type": "code",
   "execution_count": null,
   "id": "6df4b50b-3ba2-400f-8b84-2a3a83121df7",
   "metadata": {
    "tags": []
   },
   "outputs": [],
   "source": [
    "scgg = pd.concat([scored_conceded_goal_group[(scored_conceded_goal_group.main_team == home_team)\\\n",
    "                        &(scored_conceded_goal_group.competition==competition)\\\n",
    "                        &(scored_conceded_goal_group.team_group.isin([away_team_group]))],\\\n",
    "           scored_conceded_goal_group[(scored_conceded_goal_group.main_team == away_team)\\\n",
    "                        &(scored_conceded_goal_group.competition==competition)\\\n",
    "                        &(scored_conceded_goal_group.team_group.isin([home_team_group]))]])"
   ]
  },
  {
   "cell_type": "code",
   "execution_count": null,
   "id": "370687f2-fb47-471d-a4d4-20388c209544",
   "metadata": {
    "tags": []
   },
   "outputs": [],
   "source": [
    "scgg[['main_team','n_matches','team_has_scored_ratio','team_has_scored_streak_weighted_ratio']].set_index('main_team')"
   ]
  },
  {
   "cell_type": "code",
   "execution_count": null,
   "id": "daa9acbf-ea63-46b4-a031-08966c6665b0",
   "metadata": {
    "tags": []
   },
   "outputs": [],
   "source": [
    "fig, axes = plt.subplots(1, 2, figsize=(10, 3), sharey=True)\n",
    "plt.subplots_adjust(hspace=0.6, wspace=0.2)\n",
    "fig.suptitle(f\"Has Scored Goal - Group\", fontsize=14, fontweight='bold')\n",
    "plt.subplots_adjust(top=0.8)\n",
    "\n",
    "scgg[['main_team','team_has_scored_ratio']].set_index('main_team').plot(kind='bar',rot=0, ylim=(0,1), title='Ratio', ax=axes[0])\n",
    "scgg[['main_team','team_has_scored_streak_weighted_ratio']].set_index('main_team').plot(kind='bar',rot=0, ylim=(0,1), title='Streak Weighted', ax=axes[1])\n",
    "\n",
    "[ax.legend().set_visible(False) for ax in axes]\n",
    "plt.show()"
   ]
  },
  {
   "cell_type": "markdown",
   "id": "c6c9a693-1845-42f2-9d4f-6c0e8682a9cc",
   "metadata": {},
   "source": [
    "### Has Scored - Group - Home/Away"
   ]
  },
  {
   "cell_type": "code",
   "execution_count": null,
   "id": "a6b88741-0633-48f1-b208-7484c2b1a0a7",
   "metadata": {
    "tags": []
   },
   "outputs": [],
   "source": [
    "tt = scored_conceded_goal_group_away_home\n",
    "scggah = pd.concat([tt[(tt.main_team == home_team)\\\n",
    "                        &(tt.competition==competition)\\\n",
    "                        &(tt.away_home=='home')\\\n",
    "                        &(tt.team_group.isin([away_team_group]))],\\\n",
    "                   tt[(tt.main_team == away_team)\\\n",
    "                        &(tt.competition==competition)\\\n",
    "                        &(tt.away_home=='away')\\\n",
    "                        &(tt.team_group.isin([home_team_group]))]])"
   ]
  },
  {
   "cell_type": "code",
   "execution_count": null,
   "id": "afbd159e-38fb-4403-9afd-c713f104b65d",
   "metadata": {
    "tags": []
   },
   "outputs": [],
   "source": [
    "scggah[['main_team','n_matches','away_home',\\\n",
    "      'team_has_scored_ratio','team_has_scored_streak_weighted_ratio']].set_index('main_team')"
   ]
  },
  {
   "cell_type": "code",
   "execution_count": null,
   "id": "3590c751-11de-465f-a010-1d9e217b3c1e",
   "metadata": {
    "tags": []
   },
   "outputs": [],
   "source": [
    "fig, axes = plt.subplots(1, 2, figsize=(10, 3), sharey=True)\n",
    "plt.subplots_adjust(hspace=0.6, wspace=0.2)\n",
    "fig.suptitle(f\"Has Scored Goal - Overall - Home/Away\", fontsize=14, fontweight='bold')\n",
    "plt.subplots_adjust(top=0.8)\n",
    "\n",
    "scggah[['main_team','team_has_scored_ratio']].set_index('main_team').plot(kind='bar',rot=0, ylim=(0,1), title='Ratio', ax=axes[0])\n",
    "scggah[['main_team','team_has_scored_streak_weighted_ratio']].set_index('main_team').plot(kind='bar',rot=0, ylim=(0,1), title='Streak Weighted', ax=axes[1])\n",
    "\n",
    "[ax.legend().set_visible(False) for ax in axes]\n",
    "plt.show()"
   ]
  },
  {
   "cell_type": "code",
   "execution_count": null,
   "id": "c267736e-a160-40fa-95bc-4025900e635d",
   "metadata": {
    "tags": []
   },
   "outputs": [],
   "source": [
    "matches_df[(matches_df.main_team=='Sassuolo')&(matches_df.away_home=='home')&(matches_df.team_group==0)]\\\n",
    "    [['opponent_team','goal_fatti','away_home','giornata','team_group']].sort_values('giornata')"
   ]
  },
  {
   "cell_type": "markdown",
   "id": "0f2a6fa5-39f2-46ff-b003-bd5b69e52b43",
   "metadata": {
    "tags": []
   },
   "source": [
    "### Has Conceded - Group"
   ]
  },
  {
   "cell_type": "code",
   "execution_count": null,
   "id": "43d12fc2-61e2-4338-9578-bce5a2dbbe60",
   "metadata": {
    "tags": []
   },
   "outputs": [],
   "source": [
    "scgg[['main_team','n_matches','team_has_conceded_goal_ratio',\\\n",
    "      'team_has_conceded_goal_streak_weighted_ratio']].set_index('main_team')"
   ]
  },
  {
   "cell_type": "code",
   "execution_count": null,
   "id": "043ebdd3-d901-4907-bdc9-48118b3520e2",
   "metadata": {
    "tags": []
   },
   "outputs": [],
   "source": [
    "fig, axes = plt.subplots(1, 2, figsize=(10, 3), sharey=True)\n",
    "plt.subplots_adjust(hspace=0.6, wspace=0.2)\n",
    "fig.suptitle(f\"Has Conceded Goal - Group\", fontsize=14, fontweight='bold')\n",
    "plt.subplots_adjust(top=0.8)\n",
    "\n",
    "scgg[['main_team','team_has_conceded_goal_ratio']].set_index('main_team').plot(kind='bar',rot=0, ylim=(0,1), title='Ratio', ax=axes[0])\n",
    "scgg[['main_team','team_has_conceded_goal_streak_weighted_ratio']].set_index('main_team').plot(kind='bar',rot=0, ylim=(0,1), title='Streak Weighted', ax=axes[1])\n",
    "\n",
    "[ax.legend().set_visible(False) for ax in axes]\n",
    "plt.show()"
   ]
  },
  {
   "cell_type": "markdown",
   "id": "b5ddcff3-45f1-489d-b491-82a9aad83bed",
   "metadata": {
    "tags": []
   },
   "source": [
    "### Wins/Draws/Loss"
   ]
  },
  {
   "cell_type": "code",
   "execution_count": null,
   "id": "7d59ae32-5581-4337-ae80-57996d52ee28",
   "metadata": {
    "tags": []
   },
   "outputs": [],
   "source": [
    "wdl = pd.concat([win_draw_loss[(win_draw_loss.main_team == home_team)\\\n",
    "                        &(win_draw_loss.competition==competition)\\\n",
    "                        &(win_draw_loss.team_group.isin(['all']))],\\\n",
    "           win_draw_loss[(win_draw_loss.main_team == away_team)\\\n",
    "                        &(win_draw_loss.competition==competition)\\\n",
    "                        &(win_draw_loss.team_group.isin(['all']))]])"
   ]
  },
  {
   "cell_type": "code",
   "execution_count": null,
   "id": "25c7f61f-7e64-435e-9341-e0948e1e28f6",
   "metadata": {
    "tags": []
   },
   "outputs": [],
   "source": [
    "wdlg = pd.concat([win_draw_loss[(win_draw_loss.main_team == home_team)\\\n",
    "                        &(win_draw_loss.competition==competition)\\\n",
    "                        &(win_draw_loss.team_group==str(away_team_group))],\\\n",
    "           win_draw_loss[(win_draw_loss.main_team == away_team)\\\n",
    "                        &(win_draw_loss.competition==competition)\\\n",
    "                        &(win_draw_loss.team_group==str(home_team_group))]])\n",
    "wdlg"
   ]
  },
  {
   "cell_type": "code",
   "execution_count": null,
   "id": "282edc6c-4d65-408b-a1a9-2b786d75326a",
   "metadata": {
    "tags": []
   },
   "outputs": [],
   "source": [
    "wdlgah = pd.concat([win_draw_loss_away_home[(win_draw_loss_away_home.main_team == home_team)\\\n",
    "                        &(win_draw_loss_away_home.competition==competition)\\\n",
    "                        &(win_draw_loss_away_home.away_home=='home')\\\n",
    "                        &(win_draw_loss_away_home.team_group.apply(str)==str(away_team_group))],\\\n",
    "           win_draw_loss_away_home[(win_draw_loss_away_home.main_team == away_team)\\\n",
    "                        &(win_draw_loss_away_home.away_home=='away')\\\n",
    "                        &(win_draw_loss_away_home.competition==competition)\\\n",
    "                        &(win_draw_loss_away_home.team_group.apply(str)==str(home_team_group))]])\n",
    "wdlgah"
   ]
  },
  {
   "cell_type": "markdown",
   "id": "4df5e572-1459-427b-a260-7218e791de6c",
   "metadata": {},
   "source": [
    "#### Wins Overall"
   ]
  },
  {
   "cell_type": "code",
   "execution_count": null,
   "id": "08d5ef4e-ac82-4372-ab17-7eeac6bf4017",
   "metadata": {
    "tags": []
   },
   "outputs": [],
   "source": [
    "wdl[['main_team','n_matches']].set_index('main_team')"
   ]
  },
  {
   "cell_type": "code",
   "execution_count": null,
   "id": "cacd6a2a-a3a0-4983-b2b2-e672adfbdb3d",
   "metadata": {
    "tags": []
   },
   "outputs": [],
   "source": [
    "fig, axes = plt.subplots(1, 2, figsize=(10, 3), sharey=True)\n",
    "plt.subplots_adjust(hspace=0.6, wspace=0.2)\n",
    "fig.suptitle(f\"Wins - Overall\", fontsize=14, fontweight='bold')\n",
    "plt.subplots_adjust(top=0.8)\n",
    "\n",
    "wdl[['main_team','avg_win']].set_index('main_team').plot(kind='bar',rot=0, ylim=(0,1), title='Ratio', ax=axes[0])\n",
    "wdl[['main_team','win_streak_weighted_ratio']].set_index('main_team').plot(kind='bar',rot=0, ylim=(0,1), title='Streak Weighted', ax=axes[1])\n",
    "\n",
    "[ax.legend().set_visible(False) for ax in axes]\n",
    "plt.show()"
   ]
  },
  {
   "cell_type": "markdown",
   "id": "645267c8-02d0-438e-bb60-5559fcd3287e",
   "metadata": {},
   "source": [
    "#### Wins VS Group"
   ]
  },
  {
   "cell_type": "code",
   "execution_count": null,
   "id": "d6a2db8f-41fb-4aa0-9dd1-5eee343c6eff",
   "metadata": {
    "tags": []
   },
   "outputs": [],
   "source": [
    "wdlg[['main_team','n_matches']].set_index('main_team')"
   ]
  },
  {
   "cell_type": "code",
   "execution_count": null,
   "id": "087b391c-a461-423f-8bf7-070426be1bd1",
   "metadata": {
    "tags": []
   },
   "outputs": [],
   "source": [
    "fig, axes = plt.subplots(1, 2, figsize=(10, 3), sharey=True)\n",
    "plt.subplots_adjust(hspace=0.6, wspace=0.2)\n",
    "fig.suptitle(f\"Wins - Group\", fontsize=14, fontweight='bold')\n",
    "plt.subplots_adjust(top=0.8)\n",
    "\n",
    "wdlg[['main_team','avg_win']].set_index('main_team').plot(kind='bar',rot=0, ylim=(0,1), title='Ratio', ax=axes[0])\n",
    "wdlg[['main_team','win_streak_weighted_ratio']].set_index('main_team').plot(kind='bar',rot=0, ylim=(0,1), title='Streak Weighted', ax=axes[1])\n",
    "\n",
    "[ax.legend().set_visible(False) for ax in axes]\n",
    "plt.show()"
   ]
  },
  {
   "cell_type": "markdown",
   "id": "f76653ed-eff7-4c9e-876f-1a348e610bb4",
   "metadata": {},
   "source": [
    "#### Wins - Group - Home/Away"
   ]
  },
  {
   "cell_type": "code",
   "execution_count": null,
   "id": "d3ae2e55-7a4d-41e0-b604-ff8b50e602ff",
   "metadata": {
    "tags": []
   },
   "outputs": [],
   "source": [
    "wdlgah[['main_team','n_matches']].set_index('main_team')"
   ]
  },
  {
   "cell_type": "code",
   "execution_count": null,
   "id": "e120551e-003e-4a83-a551-a09d1f4b8973",
   "metadata": {
    "tags": []
   },
   "outputs": [],
   "source": [
    "fig, axes = plt.subplots(1, 2, figsize=(10, 3), sharey=True)\n",
    "plt.subplots_adjust(hspace=0.6, wspace=0.2)\n",
    "fig.suptitle(f\"Wins - Group - Home/Away\", fontsize=14, fontweight='bold')\n",
    "plt.subplots_adjust(top=0.8)\n",
    "\n",
    "wdlgah[['main_team','avg_win']].set_index('main_team').plot(kind='bar',rot=0, ylim=(0,1), title='Ratio', ax=axes[0])\n",
    "wdlgah[['main_team','win_streak_weighted_ratio']].set_index('main_team').plot(kind='bar',rot=0, ylim=(0,1), title='Streak Weighted', ax=axes[1])\n",
    "\n",
    "[ax.legend().set_visible(False) for ax in axes]\n",
    "plt.show()"
   ]
  },
  {
   "cell_type": "markdown",
   "id": "3a8d4dbe-569b-4abc-a5bf-ed249eeaf0fc",
   "metadata": {},
   "source": [
    "#### Draws - Group"
   ]
  },
  {
   "cell_type": "code",
   "execution_count": null,
   "id": "a3e668ed-7cea-48ae-9f25-2dbc9b06918e",
   "metadata": {
    "tags": []
   },
   "outputs": [],
   "source": [
    "wdlgah[['main_team','n_matches']].set_index('main_team')"
   ]
  },
  {
   "cell_type": "code",
   "execution_count": null,
   "id": "6e901a62-73ca-40d2-b9bd-559fc5ee9bf5",
   "metadata": {
    "tags": []
   },
   "outputs": [],
   "source": [
    "fig, axes = plt.subplots(1, 2, figsize=(10, 3), sharey=True)\n",
    "plt.subplots_adjust(hspace=0.6, wspace=0.2)\n",
    "fig.suptitle(f\"Draw - Group - Home/Away\", fontsize=14, fontweight='bold')\n",
    "plt.subplots_adjust(top=0.8)\n",
    "\n",
    "wdlgah[['main_team','avg_draw']].set_index('main_team').plot(kind='bar',rot=0, title='Ratio', ylim=(0,1), ax=axes[0])\n",
    "wdlgah[['main_team','draw_streak_weighted_ratio']].set_index('main_team').plot(kind='bar',rot=0, ylim=(0,1), title='Streak Weighted', ax=axes[1])\n",
    "\n",
    "[ax.legend().set_visible(False) for ax in axes]\n",
    "plt.show()"
   ]
  },
  {
   "cell_type": "markdown",
   "id": "8f181fb1-04a0-4c29-ac16-e7e2b39c4c07",
   "metadata": {},
   "source": [
    "#### Loss - Group"
   ]
  },
  {
   "cell_type": "code",
   "execution_count": null,
   "id": "d856e618-da63-42fd-8adc-bce6bf8a20d6",
   "metadata": {
    "tags": []
   },
   "outputs": [],
   "source": [
    "wdlg[['main_team','n_matches']].set_index('main_team')"
   ]
  },
  {
   "cell_type": "code",
   "execution_count": null,
   "id": "2b976641-7e55-4aae-84e8-c2aa92bdf34c",
   "metadata": {
    "tags": []
   },
   "outputs": [],
   "source": [
    "fig, axes = plt.subplots(1, 2, figsize=(10, 3), sharey=True)\n",
    "plt.subplots_adjust(hspace=0.6, wspace=0.2)\n",
    "fig.suptitle(f\"Loss - Group - Home/Away\", fontsize=14, fontweight='bold')\n",
    "plt.subplots_adjust(top=0.8)\n",
    "\n",
    "wdlg[['main_team','avg_loss']].set_index('main_team').plot(kind='bar',rot=0, title='Ratio', ylim=(0,1), ax=axes[0])\n",
    "wdlg[['main_team','loss_streak_weighted_ratio']].set_index('main_team').plot(kind='bar',rot=0, ylim=(0,1), title='Streak Weighted', ax=axes[1])\n",
    "\n",
    "[ax.legend().set_visible(False) for ax in axes]\n",
    "plt.show()"
   ]
  },
  {
   "cell_type": "code",
   "execution_count": null,
   "id": "6425d413-a5e9-4bc9-9b6f-3b56fed0fb77",
   "metadata": {
    "tags": []
   },
   "outputs": [],
   "source": [
    "matches_df[(matches_df.main_team==away_team)]\\\n",
    "        .sort_values('giornata')\\\n",
    "        [['main_team','opponent_team','away_home','result',\n",
    "          'giornata','team_group','team_has_conceded_goal']]"
   ]
  },
  {
   "cell_type": "code",
   "execution_count": null,
   "id": "4d3dd457-ecb1-4374-867c-5a112349f77d",
   "metadata": {},
   "outputs": [],
   "source": []
  }
 ],
 "metadata": {
  "kernelspec": {
   "display_name": "Python 3 (ipykernel)",
   "language": "python",
   "name": "python3"
  },
  "language_info": {
   "codemirror_mode": {
    "name": "ipython",
    "version": 3
   },
   "file_extension": ".py",
   "mimetype": "text/x-python",
   "name": "python",
   "nbconvert_exporter": "python",
   "pygments_lexer": "ipython3",
   "version": "3.9.16"
  }
 },
 "nbformat": 4,
 "nbformat_minor": 5
}
